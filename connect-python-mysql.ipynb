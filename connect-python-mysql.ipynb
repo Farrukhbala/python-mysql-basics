{
 "cells": [
  {
   "cell_type": "code",
   "execution_count": 2,
   "metadata": {},
   "outputs": [],
   "source": [
    "#pip install mysql-connector-python\n",
    "\n",
    "\n",
    "\"\"\"\n",
    "Create Database and connecting with xampp MySql server\n",
    "\n",
    "\"\"\"\n",
    "\n",
    "\n",
    "import mysql.connector\n",
    "\n",
    "mydb = mysql.connector.connect(\n",
    "  host=\"localhost\",\n",
    "  user=\"root\",\n",
    "  passwd=\"\",\n",
    "  database=\"python\"\n",
    ")\n",
    "\n",
    "mycursor = mydb.cursor()\n",
    "# mycursor.execute(\"CREATE DATABASE Python\") "
   ]
  },
  {
   "cell_type": "code",
   "execution_count": 4,
   "metadata": {},
   "outputs": [],
   "source": [
    "\"\"\"\n",
    "Creating a table name 'promis' with columns 'study_id' etc\n",
    "\n",
    "\"\"\"\n",
    "\n",
    "\n",
    "mycursor.execute(\"CREATE TABLE promis (study_id VARCHAR(255), name VARCHAR(255), contact_no int, project int)\")"
   ]
  },
  {
   "cell_type": "code",
   "execution_count": 3,
   "metadata": {},
   "outputs": [
    {
     "name": "stdout",
     "output_type": "stream",
     "text": [
      "1 record inserted.\n"
     ]
    }
   ],
   "source": [
    "\"\"\"\n",
    "Inserting Data in the table promis, below code going to take inputs from the users.\n",
    "\n",
    "\"\"\"\n",
    "\n",
    "a = input(\"Enter study_id:\")\n",
    "b = input(\"Enter name:\")\n",
    "c = input(\"Enter contact_no:\")\n",
    "d = input(\"Enter project:\")\n",
    "\n",
    "sql = \"INSERT INTO promis (study_id, name, contact_no, project) VALUES (%s, %s, %s,%s)\"\n",
    "val = (a,b,c,d)\n",
    "mycursor.execute(sql, val)\n",
    "\n",
    "mydb.commit()\n",
    "\n",
    "print(mycursor.rowcount, \"record inserted.\")"
   ]
  },
  {
   "cell_type": "code",
   "execution_count": 4,
   "metadata": {},
   "outputs": [
    {
     "name": "stdout",
     "output_type": "stream",
     "text": [
      "[('QNF123', 'farrukh', 33121454, 0)]\n",
      "('QNF123', 'farrukh', 33121454, 0)\n"
     ]
    }
   ],
   "source": [
    "\"\"\"\n",
    "Reading data from the table promis, you can write your queries in execute function.\n",
    "\n",
    "\"\"\"\n",
    "\n",
    "mycursor.execute(\"SELECT * FROM promis\")\n",
    "\n",
    "myresult = mycursor.fetchall()\n",
    "print (myresult)\n",
    "\n",
    "for x in myresult:\n",
    "  print (x)"
   ]
  },
  {
   "cell_type": "code",
   "execution_count": 5,
   "metadata": {},
   "outputs": [
    {
     "name": "stdout",
     "output_type": "stream",
     "text": [
      "[('QNF123', 'farrukh', 33121454, 0)]\n",
      "QNF123\n"
     ]
    }
   ],
   "source": [
    "\"\"\"\n",
    "\n",
    "Searching data with WHERE command\n",
    "\n",
    "\n",
    "\"\"\"\n",
    "\n",
    "\n",
    "mycursor.execute(\"SELECT * FROM promis where name='farrukh'\")\n",
    "\n",
    "myresult = mycursor.fetchall()\n",
    "print (myresult)\n",
    "\n",
    "for x in myresult:\n",
    "  print (x[0])"
   ]
  },
  {
   "cell_type": "code",
   "execution_count": null,
   "metadata": {},
   "outputs": [],
   "source": []
  }
 ],
 "metadata": {
  "kernelspec": {
   "display_name": "Python 3.10.4 64-bit",
   "language": "python",
   "name": "python3"
  },
  "language_info": {
   "codemirror_mode": {
    "name": "ipython",
    "version": 3
   },
   "file_extension": ".py",
   "mimetype": "text/x-python",
   "name": "python",
   "nbconvert_exporter": "python",
   "pygments_lexer": "ipython3",
   "version": "3.10.4"
  },
  "orig_nbformat": 4,
  "vscode": {
   "interpreter": {
    "hash": "4abed3fd9321dc7614b71bd5c204896f7c65793ff3154ca808aa6e5bed376756"
   }
  }
 },
 "nbformat": 4,
 "nbformat_minor": 2
}
