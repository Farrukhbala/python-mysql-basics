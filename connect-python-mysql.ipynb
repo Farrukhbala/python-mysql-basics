{
 "cells": [
  {
   "cell_type": "code",
   "execution_count": 10,
   "metadata": {},
   "outputs": [],
   "source": [
    "#pip install mysql-connector-python\n",
    "\n",
    "\n",
    "\"\"\"\n",
    "Create Database and connecting with xampp MySql server\n",
    "\n",
    "\"\"\"\n",
    "\n",
    "\n",
    "import mysql.connector\n",
    "\n",
    "mydb = mysql.connector.connect(\n",
    "  host=\"localhost\",\n",
    "  user=\"root\",\n",
    "  passwd=\"\",\n",
    "  database=\"dm_master\"\n",
    ")\n",
    "\n",
    "mycursor = mydb.cursor()\n",
    "# mycursor.execute(\"CREATE DATABASE Python\") "
   ]
  },
  {
   "cell_type": "code",
   "execution_count": null,
   "metadata": {},
   "outputs": [],
   "source": [
    "\"\"\"\n",
    "Creating a table name 'promis' with columns 'study_id' etc\n",
    "\n",
    "\"\"\"\n",
    "\n",
    "mycursor.execute(\"CREATE TABLE IF NOT EXISTS `dm_master`.`dm` (`COL 1` text(7), `COL 2` text(6), `COL 3` text(8), `COL 4` text(12), `COL 5` text(6), `COL 6` text(15), `COL 7` text(8), `COL 8` text(21), `COL 9` text(93), `COL 10` text(13), `COL 11` text(3), `COL 12` text(6), `COL 13` text(5), `COL 14` text(9), `COL 15` text(12), `COL 16` text(15), `COL 17` text(15), `COL 18` text(9), `COL 19` text(13), `COL 20` text(17), `COL 21` text(13), `COL 22` text(9), `COL 23` text(13), `COL 24` text(14), `COL 25` text(14), `COL 26` text(9), `COL 27` text(13), `COL 28` text(11), `COL 29` text(15), `COL 30` text(9), `COL 31` text(13), `COL 32` text(10), `COL 33` text(15), `COL 34` text(9), `COL 35` text(13), `COL 36` text(2), `COL 37` text(5), `COL 38` text(11), `COL 39` text(3), `COL 40` text(6), `COL 41` text(12), `COL 42` text(11), `COL 43` text(11), `COL 44` text(17), `COL 45` text(3), `COL 46` text(6), `COL 47` text(6), `COL 48` text(9), `COL 49` text(2), `COL 50` text(5), `COL 51` text(11), `COL 52` text(4), `COL 53` text(4), `COL 54` text(12), `COL 55` text(15), `COL 56` text(11), `COL 57` text(6), `COL 58` text(9), `COL 59` text(7), `COL 60` text(10), `COL 61` text(3), `COL 62` text(3), `COL 63` text(6), `COL 64` text(2), `COL 65` text(6), `COL 66` text(6), `COL 67` text(14), `COL 68` text(2), `COL 69` text(5), `COL 70` text(10), `COL 71` text(9), `COL 72` text(5), `COL 73` text(3), `COL 74` text(13), `COL 75` text(11), `COL 76` text(13), `COL 77` text(16), `COL 78` text(17), `COL 79` text(18), `COL 80` text(31), `COL 81` text(3), `COL 82` text(6), `COL 83` text(15), `COL 84` text(18), `COL 85` text(29), `COL 86` text(15), `COL 87` text(16), `COL 88` text(25), `COL 89` text(11), `COL 90` text(23), `COL 91` text(20), `COL 92` text(12), `COL 93` text(6), `COL 94` text(11), `COL 95` text(11), `COL 96` text(5), `COL 97` text(8), `COL 98` text(13), `COL 99` text(17), `COL 100` text(13), `COL 101` text(17), `COL 102` text(13), `COL 103` text(17), `COL 104` text(14), `COL 105` text(18), `COL 106` text(15), `COL 107` text(19), `COL 108` text(10), `COL 109` text(14), `COL 110` text(4), `COL 111` text(7), `COL 112` text(12), `COL 113` text(16), `COL 114` text(12), `COL 115` text(16), `COL 116` text(12), `COL 117` text(16), `COL 118` text(13), `COL 119` text(17), `COL 120` text(14), `COL 121` text(18), `COL 122` text(9), `COL 123` text(13), `COL 124` text(8), `COL 125` text(11), `COL 126` text(16), `COL 127` text(20), `COL 128` text(16), `COL 129` text(20), `COL 130` text(16), `COL 131` text(20), `COL 132` text(17), `COL 133` text(21), `COL 134` text(18), `COL 135` text(22), `COL 136` text(13), `COL 137` text(17), `COL 138` text(4), `COL 139` text(7), `COL 140` text(12), `COL 141` text(16), `COL 142` text(12), `COL 143` text(16), `COL 144` text(12), `COL 145` text(16), `COL 146` text(13), `COL 147` text(17), `COL 148` text(14), `COL 149` text(18), `COL 150` text(9), `COL 151` text(13), `COL 152` text(8), `COL 153` text(11), `COL 154` text(16), `COL 155` text(20), `COL 156` text(16), `COL 157` text(20), `COL 158` text(16), `COL 159` text(20), `COL 160` text(17), `COL 161` text(21), `COL 162` text(18), `COL 163` text(22), `COL 164` text(13), `COL 165` text(17), `COL 166` text(8), `COL 167` text(11), `COL 168` text(16), `COL 169` text(20), `COL 170` text(21), `COL 171` text(16), `COL 172` text(20), `COL 173` text(21), `COL 174` text(16), `COL 175` text(20), `COL 176` text(21), `COL 177` text(17), `COL 178` text(21), `COL 179` text(22), `COL 180` text(18), `COL 181` text(22), `COL 182` text(23), `COL 183` text(13), `COL 184` text(17), `COL 185` text(18), `COL 186` text(6), `COL 187` text(13), `COL 188` text(13), `COL 189` text(13), `COL 190` text(14), `COL 191` text(15), `COL 192` text(10), `COL 193` text(13), `COL 194` text(16), `COL 195` text(21), `COL 196` text(24), `COL 197` text(21), `COL 198` text(24), `COL 199` text(21), `COL 200` text(24), `COL 201` text(22), `COL 202` text(25), `COL 203` text(23), `COL 204` text(26), `COL 205` text(18), `COL 206` text(21), `COL 207` text(8), `COL 208` text(16), `COL 209` text(16), `COL 210` text(18), `COL 211` text(13), `COL 212` text(14), `COL 213` text(7), `COL 214` text(11), `COL 215` text(6), `COL 216` text(9), `COL 217` text(10), `COL 218` text(13), `COL 219` text(10), `COL 220` text(11), `COL 221` text(7), `COL 222` text(11), `COL 223` text(14), `COL 224` text(16), `COL 225` text(13), `COL 226` text(7), `COL 227` text(12), `COL 228` text(13), `COL 229` text(12), `COL 230` text(4), `COL 231` text(11), `COL 232` text(10), `COL 233` text(12), `COL 234` text(11), `COL 235` text(5), `COL 236` text(12), `COL 237` text(11), `COL 238` text(10), `COL 239` text(9), `COL 240` text(6), `COL 241` text(13), `COL 242` text(13), `COL 243` text(11), `COL 244` text(10), `COL 245` text(6), `COL 246` text(7), `COL 247` text(10), `COL 248` text(8), `COL 249` text(7), `COL 250` text(6), `COL 251` text(8), `COL 252` text(12), `COL 253` text(11), `COL 254` text(10), `COL 255` text(3), `COL 256` text(16), `COL 257` text(12), `COL 258` text(12), `COL 259` text(4), `COL 260` text(17), `COL 261` text(13), `COL 262` text(13), `COL 263` text(7), `COL 264` text(12), `COL 265` text(10), `COL 266` text(11), `COL 267` text(8), `COL 268` text(7), `COL 269` text(9), `COL 270` text(6), `COL 271` text(8), `COL 272` text(12), `COL 273` text(3), `COL 274` text(13), `COL 275` text(12), `COL 276` text(14), `COL 277` text(13), `COL 278` text(13), `COL 279` text(11), `COL 280` text(15), `COL 281` text(10), `COL 282` text(15), `COL 283` text(10), `COL 284` text(19), `COL 285` text(25), `COL 286` text(25), `COL 287` text(19), `COL 288` text(8), `COL 289` text(8), `COL 290` text(8), `COL 291` text(8), `COL 292` text(8), `COL 293` text(8), `COL 294` text(8), `COL 295` text(13), `COL 296` text(8), `COL 297` text(11), `COL 298` text(10), `COL 299` text(16), `COL 300` text(15), `COL 301` text(9), `COL 302` text(14), `COL 303` text(21), `COL 304` text(12), `COL 305` text(14), `COL 306` text(12), `COL 307` text(14), `COL 308` text(9), `COL 309` text(21), `COL 310` text(14), `COL 311` text(14), `COL 312` text(7), `COL 313` text(11), `COL 314` text(10), `COL 315` text(15), `COL 316` text(14), `COL 317` text(18), `COL 318` text(3), `COL 319` text(6), `COL 320` text(5), `COL 321` text(9), `COL 322` text(7), `COL 323` text(7), `COL 324` text(9), `COL 325` text(9), `COL 326` text(9), `COL 327` text(6), `COL 328` text(4), `COL 329` text(25), `COL 330` text(17), `COL 331` text(21), `COL 332` text(14), `COL 333` text(16), `COL 334` text(20), `COL 335` text(14), `COL 336` text(13), `COL 337` text(13), `COL 338` text(8), `COL 339` text(4), `COL 340` text(14), `COL 341` text(19), `COL 342` text(4), `COL 343` text(6), `COL 344` text(10), `COL 345` text(7), `COL 346` text(9), `COL 347` text(11), `COL 348` text(12), `COL 349` text(9), `COL 350` text(8), `COL 351` text(11), `COL 352` text(12), `COL 353` text(9), `COL 354` text(4), `COL 355` text(6), `COL 356` text(7), `COL 357` text(7), `COL 358` text(6), `COL 359` text(5), `COL 360` text(4), `COL 361` text(5), `COL 362` text(6), `COL 363` text(4), `COL 364` text(7), `COL 365` text(9), `COL 366` text(11), `COL 367` text(5), `COL 368` text(8), `COL 369` text(7), `COL 370` text(10), `COL 371` text(5), `COL 372` text(5), `COL 373` text(5), `COL 374` text(9), `COL 375` text(19), `COL 376` text(3), `COL 377` text(4), `COL 378` text(3), `COL 379` text(9), `COL 380` text(4), `COL 381` text(10), `COL 382` text(6), `COL 383` text(9), `COL 384` text(8), `COL 385` text(11), `COL 386` text(3), `COL 387` text(10), `COL 388` text(15), `COL 389` text(17), `COL 390` text(8), `COL 391` text(8), `COL 392` text(7), `COL 393` text(2), `COL 394` text(4), `COL 395` text(3), `COL 396` text(4), `COL 397` text(4), `COL 398` text(9), `COL 399` text(3), `COL 400` text(8), `COL 401` text(8), `COL 402` text(3), `COL 403` text(6), `COL 404` text(5), `COL 405` text(22), `COL 406` text(15), `COL 407` text(16), `COL 408` text(13), `COL 409` text(13), `COL 410` text(14), `COL 411` text(11), `COL 412` text(12), `COL 413` text(9), `COL 414` text(6), `COL 415` text(6), `COL 416` text(6), `COL 417` text(10)) DEFAULT CHARACTER SET utf8 COLLATE utf8_general_ci;;\")"
   ]
  },
  {
   "cell_type": "code",
   "execution_count": null,
   "metadata": {},
   "outputs": [],
   "source": [
    "\"\"\"\n",
    "Inserting Data in the table promis, below code going to take inputs from the users.\n",
    "\n",
    "\"\"\"\n",
    "\n",
    "a = input(\"Enter study_id:\")\n",
    "b = input(\"Enter name:\")\n",
    "c = input(\"Enter contact_no:\")\n",
    "d = input(\"Enter project:\")\n",
    "\n",
    "sql = \"INSERT INTO promis (study_id, name, contact_no, project) VALUES (%s, %s, %s,%s)\"\n",
    "val = (a,b,c,d)\n",
    "mycursor.execute(sql, val)\n",
    "\n",
    "mydb.commit()\n",
    "\n",
    "print(mycursor.rowcount, \"record inserted.\")"
   ]
  },
  {
   "cell_type": "code",
   "execution_count": null,
   "metadata": {},
   "outputs": [],
   "source": [
    "\"\"\"\n",
    "\n",
    "Reading data from the table promis, you can write your queries in execute function.\n",
    "\n",
    "\"\"\"\n",
    "import pandas as pd\n",
    "\n",
    "# mycursor.execute(\"SELECT * FROM updated_master_dm_1st_entry_august_2022\")\n",
    "\n",
    "# myresult = mycursor.fetchall()\n",
    "\n",
    "df = pd.read_sql_query(\"SELECT * FROM updated_master_dm_1st_entry_august_2022\", mydb)\n"
   ]
  },
  {
   "cell_type": "code",
   "execution_count": 33,
   "metadata": {},
   "outputs": [
    {
     "name": "stderr",
     "output_type": "stream",
     "text": [
      "c:\\Users\\Farrukh.Khan\\AppData\\Local\\Programs\\Python\\Python310\\lib\\site-packages\\pandas\\io\\sql.py:761: UserWarning: pandas only support SQLAlchemy connectable(engine/connection) ordatabase string URI or sqlite3 DBAPI2 connectionother DBAPI2 objects are not tested, please consider using SQLAlchemy\n",
      "  warnings.warn(\n"
     ]
    }
   ],
   "source": [
    "# pd.read_sql_query(\"SELECT * FROM updated_master_dm_1st_entry_august_2022 WHERE study_id = 'SZD450'\", mydb)\n",
    "\n",
    "pd.read_sql_query(\"SELECT *,count(*) from updated_master_dm_1st_entry_august_2022 GROUP by study_id having count(*) > 1;\", mydb).to_csv('G:/duplicate.csv')"
   ]
  },
  {
   "cell_type": "code",
   "execution_count": null,
   "metadata": {},
   "outputs": [],
   "source": [
    "'AWD257'\n"
   ]
  },
  {
   "cell_type": "code",
   "execution_count": null,
   "metadata": {},
   "outputs": [],
   "source": [
    "import pandas as pd\n",
    "\n",
    "df = pd.read_"
   ]
  },
  {
   "cell_type": "code",
   "execution_count": null,
   "metadata": {},
   "outputs": [],
   "source": [
    "for i in myresult:\n",
    "    print(i)"
   ]
  },
  {
   "cell_type": "code",
   "execution_count": null,
   "metadata": {},
   "outputs": [],
   "source": [
    "\"\"\"\n",
    "\n",
    "Searching data with WHERE command\n",
    "\n",
    "\n",
    "\"\"\"\n",
    "\n",
    "\n",
    "mycursor.execute(\"SELECT * FROM promis where name='farrukh'\")\n",
    "\n",
    "myresult = mycursor.fetchall()\n",
    "print (myresult)\n",
    "\n",
    "for x in myresult:\n",
    "  print (x[0])"
   ]
  },
  {
   "cell_type": "code",
   "execution_count": null,
   "metadata": {},
   "outputs": [],
   "source": [
    "\"\"\"\n",
    "DELETE a specific row based on condition\n",
    "\n",
    "\"\"\"\n",
    "\n",
    "\n",
    "mycursor = mydb.cursor()\n",
    "sql = \"DELETE FROM promis WHERE name = 'farrukh'\"\n",
    "mycursor.execute(sql)\n",
    "mydb.commit()\n",
    "\n",
    "print(mycursor.rowcount, \"record(s) deleted\")"
   ]
  },
  {
   "cell_type": "code",
   "execution_count": null,
   "metadata": {},
   "outputs": [],
   "source": [
    "\"\"\"\n",
    "UPDATE promis table with changing name\n",
    "\n",
    "\"\"\"\n",
    "\n",
    "mycursor = mydb.cursor()\n",
    "sql = \"UPDATE promis SET name = 'khanfarrukh' WHERE name = 'farrukh'\"\n",
    "mycursor.execute(sql)\n",
    "mydb.commit()\n",
    "print(mycursor.rowcount, \"record(s) affected\") "
   ]
  },
  {
   "cell_type": "code",
   "execution_count": null,
   "metadata": {},
   "outputs": [],
   "source": []
  }
 ],
 "metadata": {
  "kernelspec": {
   "display_name": "Python 3.10.4 64-bit",
   "language": "python",
   "name": "python3"
  },
  "language_info": {
   "codemirror_mode": {
    "name": "ipython",
    "version": 3
   },
   "file_extension": ".py",
   "mimetype": "text/x-python",
   "name": "python",
   "nbconvert_exporter": "python",
   "pygments_lexer": "ipython3",
   "version": "3.10.4"
  },
  "orig_nbformat": 4,
  "vscode": {
   "interpreter": {
    "hash": "4abed3fd9321dc7614b71bd5c204896f7c65793ff3154ca808aa6e5bed376756"
   }
  }
 },
 "nbformat": 4,
 "nbformat_minor": 2
}
